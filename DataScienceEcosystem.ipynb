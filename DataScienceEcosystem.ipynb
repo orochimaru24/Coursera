{
 "cells": [
  {
   "cell_type": "markdown",
   "id": "73833644-df87-4fcd-94f7-462f1063a5d2",
   "metadata": {},
   "source": [
    "# Data Science Tools and Ecosystem"
   ]
  },
  {
   "cell_type": "markdown",
   "id": "de923d49-deac-4832-a7dc-9ae60a7b4c11",
   "metadata": {},
   "source": [
    "# In this notebook, Data Science Tools and Ecosystem are summerized."
   ]
  },
  {
   "cell_type": "markdown",
   "id": "982023f8-704a-4c7d-9d65-de0175bf1e8d",
   "metadata": {},
   "source": [
    "# Some of the popular languages that Data Scientists use are:\n",
    "1. Python\n",
    "2. mySQL\n",
    "3. R\n"
   ]
  },
  {
   "cell_type": "markdown",
   "id": "5896cd66-7698-4fb9-a063-f66f45526c73",
   "metadata": {},
   "source": [
    "# __Objectives:__\n",
    "- Python\n",
    "- mySQL\n",
    "- R\n",
    "- Java"
   ]
  },
  {
   "cell_type": "markdown",
   "id": "27f93f49-6da1-4fc5-af4f-38ea28d7a324",
   "metadata": {
    "tags": []
   },
   "source": [
    "# Some of the commonly used libraries used by Data Scientists are:\n",
    "- Panda\n",
    "- Numpy\n",
    "- R library"
   ]
  },
  {
   "cell_type": "markdown",
   "id": "3608dbb9-bf17-4fb0-bb18-84751cd2a1a0",
   "metadata": {},
   "source": [
    "|Data Science Tools|\n",
    "|------------------|\n",
    "|Visual Studio|\n",
    "|Anaconda|\n",
    "|Jupyter Labs|"
   ]
  },
  {
   "cell_type": "markdown",
   "id": "372359ac-715c-481d-9900-7575c8cc0183",
   "metadata": {},
   "source": [
    "### Below are a few examples of evaluating arithmetic expressions in Python."
   ]
  },
  {
   "cell_type": "code",
   "execution_count": 2,
   "id": "b7a866d3-75c9-464d-b520-052d587c760f",
   "metadata": {
    "tags": []
   },
   "outputs": [
    {
     "data": {
      "text/plain": [
       "17"
      ]
     },
     "execution_count": 2,
     "metadata": {},
     "output_type": "execute_result"
    }
   ],
   "source": [
    "# This is a simple arithmetic expression to multiply then add integers\n",
    "(3*4)+5"
   ]
  },
  {
   "cell_type": "code",
   "execution_count": 4,
   "id": "2031f677-b2ad-4a74-83f4-aba611794c25",
   "metadata": {
    "tags": []
   },
   "outputs": [
    {
     "name": "stdout",
     "output_type": "stream",
     "text": [
      "3\n"
     ]
    }
   ],
   "source": [
    "# This will convert 200 minutes into hours by dividing by 60.\n",
    "minutes = 200\n",
    "hours = int(minutes/60) \n",
    "print(hours)"
   ]
  },
  {
   "cell_type": "markdown",
   "id": "37a5e8a6-6fd8-456f-9c71-41f5f758593a",
   "metadata": {
    "tags": []
   },
   "source": [
    "## Author \n",
    "Dixit Gajjar\n"
   ]
  },
  {
   "cell_type": "code",
   "execution_count": null,
   "id": "c7614d5e-c5f0-43af-b207-50ed49ce986b",
   "metadata": {},
   "outputs": [],
   "source": []
  }
 ],
 "metadata": {
  "kernelspec": {
   "display_name": "Python 3 (ipykernel)",
   "language": "python",
   "name": "python3"
  },
  "language_info": {
   "codemirror_mode": {
    "name": "ipython",
    "version": 3
   },
   "file_extension": ".py",
   "mimetype": "text/x-python",
   "name": "python",
   "nbconvert_exporter": "python",
   "pygments_lexer": "ipython3",
   "version": "3.11.5"
  }
 },
 "nbformat": 4,
 "nbformat_minor": 5
}
